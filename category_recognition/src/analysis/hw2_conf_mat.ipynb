{
 "cells": [
  {
   "cell_type": "markdown",
   "metadata": {},
   "source": [
    "# Get confusion matrix for the trained model"
   ]
  },
  {
   "cell_type": "markdown",
   "metadata": {},
   "source": [
    "First, import required modules, and set plotting parameters"
   ]
  },
  {
   "cell_type": "code",
   "execution_count": null,
   "metadata": {
    "collapsed": false
   },
   "outputs": [],
   "source": [
    "import caffe\n",
    "import glob\n",
    "import matplotlib.pyplot as plt\n",
    "import numpy as np\n",
    "from sklearn.metrics import confusion_matrix\n",
    "import sys\n",
    "\n",
    "# Make sure that caffe is on the python path:\n",
    "caffe_root = '../'  # this file is expected to be in {caffe_root}/examples\n",
    "sys.path.insert(0, caffe_root + 'python')\n",
    "\n",
    "%matplotlib inline\n",
    "plt.rcParams['figure.figsize'] = (10, 10)\n",
    "plt.rcParams['image.interpolation'] = 'nearest'\n",
    "plt.rcParams['image.cmap'] = 'gray'"
   ]
  },
  {
   "cell_type": "code",
   "execution_count": null,
   "metadata": {
    "collapsed": false
   },
   "outputs": [],
   "source": [
    "caffe.set_mode_cpu()\n",
    "net = caffe.Net(caffe_root + 'models/hw2/deploy.prototxt',\n",
    "                caffe_root + 'models/hw2/hw2_LL_tune_iter_1000.caffemodel',\n",
    "                caffe.TEST)\n",
    "\n",
    "# input preprocessing: 'data' is the name of the input blob == net.inputs[0]\n",
    "transformer = caffe.io.Transformer({'data': net.blobs['data'].data.shape})\n",
    "transformer.set_transpose('data', (2,0,1))\n",
    "\n",
    "transformer.set_mean('data', np.load(caffe_root + 'data/hw2/mean.npy').mean(1).mean(1)) # mean pixel\n",
    "transformer.set_raw_scale('data', 255)  # the reference model operates on images in [0,255] range instead of [0,1]\n",
    "transformer.set_channel_swap('data', (2,1,0))  # the reference model has channels in BGR order instead of RGB"
   ]
  },
  {
   "cell_type": "code",
   "execution_count": null,
   "metadata": {
    "collapsed": false
   },
   "outputs": [],
   "source": [
    "# set net to batch size of 20\n",
    "net.blobs['data'].reshape(20,3,227,227)"
   ]
  },
  {
   "cell_type": "code",
   "execution_count": null,
   "metadata": {
    "collapsed": false
   },
   "outputs": [],
   "source": [
    "im_names = {}\n",
    "for i in range(25):\n",
    "    path = '../data/hw2/test_images/' + str(i+1) + '/*'\n",
    "    im_names[i] = glob.glob(path)"
   ]
  },
  {
   "cell_type": "markdown",
   "metadata": {},
   "source": [
    "Feed in the image (with some preprocessing) and classify with a forward pass."
   ]
  },
  {
   "cell_type": "code",
   "execution_count": null,
   "metadata": {
    "collapsed": false
   },
   "outputs": [],
   "source": [
    "pred = {}\n",
    "for i in range(25):\n",
    "    print 'Now testing class', i+1, 'out of ', 25\n",
    "    imData = np.zeros((20, 3, 227, 227))\n",
    "    for j, imagePath in enumerate(im_names[i]):\n",
    "        imData[j,:,:,:] = transformer.preprocess('data', caffe.io.load_image(imagePath))       \n",
    "    net.blobs['data'].data[...] = imData\n",
    "    out = net.forward()\n",
    "    pred[i] = out['prob'][:20].argmax(axis = 1)"
   ]
  },
  {
   "cell_type": "code",
   "execution_count": null,
   "metadata": {
    "collapsed": false
   },
   "outputs": [],
   "source": [
    "def get_conf_mat(pred):\n",
    "    conf_mat = np.zeros((25, 25))\n",
    "    for i in pred:\n",
    "        for j in range(pred[i].shape[0]):\n",
    "            conf_mat[i, pred[i][j]] += 1\n",
    "    conf_mat = conf_mat / np.sum(conf_mat, axis = 1)\n",
    "    return conf_mat"
   ]
  },
  {
   "cell_type": "code",
   "execution_count": null,
   "metadata": {
    "collapsed": false,
    "scrolled": false
   },
   "outputs": [],
   "source": [
    "conf_mat = get_conf_mat(pred)\n",
    "tick_marks = np.arange(25)\n",
    "class_names = ['sax',\n",
    "               'limousine',\n",
    "               'gong',\n",
    "               'shovel',\n",
    "               'fiddler crab',\n",
    "               'bearskin',\n",
    "               'sea lion',\n",
    "               'baseball',\n",
    "               'meerkat',\n",
    "               'puffer',\n",
    "               'dalmatian',\n",
    "               'Saluki',\n",
    "               'barber chair',\n",
    "               'church',\n",
    "               'yurt',\n",
    "               'obelisk',\n",
    "               'bluetick',\n",
    "               'lakeside',\n",
    "               'mushroom',\n",
    "               'measuring cup',\n",
    "               'projectile',\n",
    "               'Brittany spaniel',\n",
    "               'ant',\n",
    "               'snow leopard',\n",
    "               'sandbar']\n",
    "\n",
    "plt.xticks(tick_marks, class_names, rotation=90)\n",
    "plt.yticks(tick_marks, class_names)    \n",
    "plt.imshow(conf_mat , cmap=plt.cm.Blues)"
   ]
  },
  {
   "cell_type": "code",
   "execution_count": null,
   "metadata": {
    "collapsed": false
   },
   "outputs": [],
   "source": [
    "accs = [conf_mat[i, i] for i in range(25)]\n",
    "acc = np.mean(accs)\n",
    "print acc"
   ]
  },
  {
   "cell_type": "code",
   "execution_count": null,
   "metadata": {
    "collapsed": false
   },
   "outputs": [],
   "source": [
    "for i in range(25):\n",
    "    print i+1, class_names[i], accs[i]"
   ]
  }
 ],
 "metadata": {
  "description": "Instant recognition with a pre-trained model and a tour of the net interface for visualizing features and parameters layer-by-layer.",
  "example_name": "Image Classification and Filter Visualization",
  "include_in_docs": true,
  "kernelspec": {
   "display_name": "Python 2",
   "language": "python",
   "name": "python2"
  },
  "language_info": {
   "codemirror_mode": {
    "name": "ipython",
    "version": 2
   },
   "file_extension": ".py",
   "mimetype": "text/x-python",
   "name": "python",
   "nbconvert_exporter": "python",
   "pygments_lexer": "ipython2",
   "version": "2.7.11"
  },
  "priority": 1
 },
 "nbformat": 4,
 "nbformat_minor": 0
}
